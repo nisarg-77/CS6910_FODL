{
 "cells": [
  {
   "cell_type": "code",
   "execution_count": 41,
   "id": "474ef7c7-0d55-4cfb-9cd5-3e4174cad906",
   "metadata": {
    "tags": []
   },
   "outputs": [],
   "source": [
    "import pandas as pd"
   ]
  },
  {
   "cell_type": "code",
   "execution_count": 42,
   "id": "12ce7816",
   "metadata": {},
   "outputs": [],
   "source": [
    "import warnings\n",
    "warnings.filterwarnings('ignore')"
   ]
  },
  {
   "cell_type": "code",
   "execution_count": 43,
   "id": "b49b8581-352a-4a95-a8c2-ae1996449597",
   "metadata": {
    "tags": []
   },
   "outputs": [
    {
     "data": {
      "text/html": [
       "<div>\n",
       "<style scoped>\n",
       "    .dataframe tbody tr th:only-of-type {\n",
       "        vertical-align: middle;\n",
       "    }\n",
       "\n",
       "    .dataframe tbody tr th {\n",
       "        vertical-align: top;\n",
       "    }\n",
       "\n",
       "    .dataframe thead th {\n",
       "        text-align: right;\n",
       "    }\n",
       "</style>\n",
       "<table border=\"1\" class=\"dataframe\">\n",
       "  <thead>\n",
       "    <tr style=\"text-align: right;\">\n",
       "      <th></th>\n",
       "      <th>id</th>\n",
       "      <th>sentiment</th>\n",
       "      <th>tweet</th>\n",
       "    </tr>\n",
       "  </thead>\n",
       "  <tbody>\n",
       "    <tr>\n",
       "      <th>0</th>\n",
       "      <td>14045</td>\n",
       "      <td>Negative</td>\n",
       "      <td>#bihday, pep! we all love you..</td>\n",
       "    </tr>\n",
       "    <tr>\n",
       "      <th>1</th>\n",
       "      <td>22431</td>\n",
       "      <td>Positive</td>\n",
       "      <td>plz sign  #japan  #bullying #tweet4taiji</td>\n",
       "    </tr>\n",
       "    <tr>\n",
       "      <th>2</th>\n",
       "      <td>11924</td>\n",
       "      <td>Negative</td>\n",
       "      <td>@user whatever you decide to do make sure it ...</td>\n",
       "    </tr>\n",
       "    <tr>\n",
       "      <th>3</th>\n",
       "      <td>21714</td>\n",
       "      <td>Negative</td>\n",
       "      <td>that's a good dog</td>\n",
       "    </tr>\n",
       "    <tr>\n",
       "      <th>4</th>\n",
       "      <td>25726</td>\n",
       "      <td>Negative</td>\n",
       "      <td>#roses   gorilla simulator: you need to do to ...</td>\n",
       "    </tr>\n",
       "  </tbody>\n",
       "</table>\n",
       "</div>"
      ],
      "text/plain": [
       "      id sentiment                                              tweet\n",
       "0  14045  Negative                 #bihday, pep! we all love you..   \n",
       "1  22431  Positive          plz sign  #japan  #bullying #tweet4taiji \n",
       "2  11924  Negative   @user whatever you decide to do make sure it ...\n",
       "3  21714  Negative                                 that's a good dog \n",
       "4  25726  Negative  #roses   gorilla simulator: you need to do to ..."
      ]
     },
     "execution_count": 43,
     "metadata": {},
     "output_type": "execute_result"
    }
   ],
   "source": [
    "train = pd.read_csv(\"train.csv\")\n",
    "train.head()"
   ]
  },
  {
   "cell_type": "code",
   "execution_count": 44,
   "id": "bf158d40-4d2d-43ba-9385-ff0ff2997c2f",
   "metadata": {
    "tags": []
   },
   "outputs": [
    {
     "data": {
      "text/plain": [
       "sentiment\n",
       "Negative    5217\n",
       "Positive     383\n",
       "Name: count, dtype: int64"
      ]
     },
     "execution_count": 44,
     "metadata": {},
     "output_type": "execute_result"
    }
   ],
   "source": [
    "train[\"sentiment\"].value_counts()"
   ]
  },
  {
   "cell_type": "code",
   "execution_count": 45,
   "id": "3f316df3-2d0e-4c9f-ae49-bac31f1f6968",
   "metadata": {
    "tags": []
   },
   "outputs": [
    {
     "name": "stdout",
     "output_type": "stream",
     "text": [
      "<class 'pandas.core.frame.DataFrame'>\n",
      "RangeIndex: 5600 entries, 0 to 5599\n",
      "Data columns (total 3 columns):\n",
      " #   Column     Non-Null Count  Dtype \n",
      "---  ------     --------------  ----- \n",
      " 0   id         5600 non-null   int64 \n",
      " 1   sentiment  5600 non-null   object\n",
      " 2   tweet      5600 non-null   object\n",
      "dtypes: int64(1), object(2)\n",
      "memory usage: 131.4+ KB\n"
     ]
    }
   ],
   "source": [
    "train.info()"
   ]
  },
  {
   "cell_type": "code",
   "execution_count": 46,
   "id": "299d930f-3091-43cf-a34a-c24e36566dc3",
   "metadata": {
    "tags": []
   },
   "outputs": [],
   "source": [
    "test = pd.read_csv(\"test.csv\")"
   ]
  },
  {
   "cell_type": "code",
   "execution_count": 47,
   "id": "22d34c75-3a11-4cb6-b9e8-48ba88e38166",
   "metadata": {
    "tags": []
   },
   "outputs": [
    {
     "data": {
      "text/plain": [
       "sentiment\n",
       "Negative    1302\n",
       "Positive      98\n",
       "Name: count, dtype: int64"
      ]
     },
     "execution_count": 47,
     "metadata": {},
     "output_type": "execute_result"
    }
   ],
   "source": [
    "test[\"sentiment\"].value_counts()"
   ]
  },
  {
   "cell_type": "code",
   "execution_count": 48,
   "id": "5ab20a7c-08a7-4343-8d91-3255f389b79b",
   "metadata": {
    "tags": []
   },
   "outputs": [],
   "source": [
    "import pandas as pd\n",
    "import numpy as np\n",
    "import re\n",
    "import string\n",
    "import nltk\n",
    "from nltk.corpus import stopwords"
   ]
  },
  {
   "cell_type": "code",
   "execution_count": 49,
   "id": "e2e2ae5e-bb05-4327-8ab7-ab9b10f3ac96",
   "metadata": {
    "tags": []
   },
   "outputs": [
    {
     "data": {
      "text/html": [
       "<div>\n",
       "<style scoped>\n",
       "    .dataframe tbody tr th:only-of-type {\n",
       "        vertical-align: middle;\n",
       "    }\n",
       "\n",
       "    .dataframe tbody tr th {\n",
       "        vertical-align: top;\n",
       "    }\n",
       "\n",
       "    .dataframe thead th {\n",
       "        text-align: right;\n",
       "    }\n",
       "</style>\n",
       "<table border=\"1\" class=\"dataframe\">\n",
       "  <thead>\n",
       "    <tr style=\"text-align: right;\">\n",
       "      <th></th>\n",
       "      <th>id</th>\n",
       "      <th>sentiment</th>\n",
       "      <th>tweet</th>\n",
       "      <th>clean_tweet</th>\n",
       "    </tr>\n",
       "  </thead>\n",
       "  <tbody>\n",
       "    <tr>\n",
       "      <th>0</th>\n",
       "      <td>14045</td>\n",
       "      <td>Negative</td>\n",
       "      <td>#bihday, pep! we all love you..</td>\n",
       "      <td>bihday pep love</td>\n",
       "    </tr>\n",
       "    <tr>\n",
       "      <th>1</th>\n",
       "      <td>22431</td>\n",
       "      <td>Positive</td>\n",
       "      <td>plz sign  #japan  #bullying #tweet4taiji</td>\n",
       "      <td>plz sign japan bullying tweettaiji</td>\n",
       "    </tr>\n",
       "    <tr>\n",
       "      <th>2</th>\n",
       "      <td>11924</td>\n",
       "      <td>Negative</td>\n",
       "      <td>@user whatever you decide to do make sure it ...</td>\n",
       "      <td>user whatever decide make sure makes</td>\n",
       "    </tr>\n",
       "    <tr>\n",
       "      <th>3</th>\n",
       "      <td>21714</td>\n",
       "      <td>Negative</td>\n",
       "      <td>that's a good dog</td>\n",
       "      <td>thats good dog</td>\n",
       "    </tr>\n",
       "    <tr>\n",
       "      <th>4</th>\n",
       "      <td>25726</td>\n",
       "      <td>Negative</td>\n",
       "      <td>#roses   gorilla simulator: you need to do to ...</td>\n",
       "      <td>roses gorilla simulator need adapt environment...</td>\n",
       "    </tr>\n",
       "  </tbody>\n",
       "</table>\n",
       "</div>"
      ],
      "text/plain": [
       "      id sentiment                                              tweet  \\\n",
       "0  14045  Negative                 #bihday, pep! we all love you..      \n",
       "1  22431  Positive          plz sign  #japan  #bullying #tweet4taiji    \n",
       "2  11924  Negative   @user whatever you decide to do make sure it ...   \n",
       "3  21714  Negative                                 that's a good dog    \n",
       "4  25726  Negative  #roses   gorilla simulator: you need to do to ...   \n",
       "\n",
       "                                         clean_tweet  \n",
       "0                                    bihday pep love  \n",
       "1                 plz sign japan bullying tweettaiji  \n",
       "2               user whatever decide make sure makes  \n",
       "3                                     thats good dog  \n",
       "4  roses gorilla simulator need adapt environment...  "
      ]
     },
     "execution_count": 49,
     "metadata": {},
     "output_type": "execute_result"
    }
   ],
   "source": [
    "stop_words = set(stopwords.words('english'))\n",
    "\n",
    "def preprocess_text(text):\n",
    "    text = text.lower()  # Lowercasing\n",
    "    text = re.sub(f\"[{string.punctuation}]\", \"\", text)  # Remove punctuation\n",
    "    text = re.sub(r'[^a-z\\s]', '', text)  # Remove non-alphabetic characters (excluding spaces)\n",
    "    words = text.split()  # Tokenization\n",
    "    words = [word for word in words if word not in stop_words]  # Remove stopwords\n",
    "    return \" \".join(words)\n",
    "\n",
    "train[\"clean_tweet\"] = train[\"tweet\"].apply(preprocess_text)\n",
    "train.head()"
   ]
  },
  {
   "cell_type": "code",
   "execution_count": 50,
   "id": "69838992-6f3b-451f-a175-0d4793432f0e",
   "metadata": {
    "tags": []
   },
   "outputs": [
    {
     "data": {
      "text/html": [
       "<div>\n",
       "<style scoped>\n",
       "    .dataframe tbody tr th:only-of-type {\n",
       "        vertical-align: middle;\n",
       "    }\n",
       "\n",
       "    .dataframe tbody tr th {\n",
       "        vertical-align: top;\n",
       "    }\n",
       "\n",
       "    .dataframe thead th {\n",
       "        text-align: right;\n",
       "    }\n",
       "</style>\n",
       "<table border=\"1\" class=\"dataframe\">\n",
       "  <thead>\n",
       "    <tr style=\"text-align: right;\">\n",
       "      <th></th>\n",
       "      <th>id</th>\n",
       "      <th>sentiment</th>\n",
       "      <th>tweet</th>\n",
       "      <th>clean_tweet</th>\n",
       "    </tr>\n",
       "  </thead>\n",
       "  <tbody>\n",
       "    <tr>\n",
       "      <th>0</th>\n",
       "      <td>19818</td>\n",
       "      <td>Negative</td>\n",
       "      <td>yes!! #crashbandicoot remake for #ps4 ðµðµ...</td>\n",
       "      <td>yes crashbandicoot remake ps made day woo want...</td>\n",
       "    </tr>\n",
       "    <tr>\n",
       "      <th>1</th>\n",
       "      <td>14921</td>\n",
       "      <td>Positive</td>\n",
       "      <td>nothing would be more dangerous than to give #...</td>\n",
       "      <td>nothing would dangerous give putinschoice impr...</td>\n",
       "    </tr>\n",
       "    <tr>\n",
       "      <th>2</th>\n",
       "      <td>52</td>\n",
       "      <td>Negative</td>\n",
       "      <td>for her #bihday we got her a #nose #job @user ...</td>\n",
       "      <td>bihday got nose job user bihday petunia love</td>\n",
       "    </tr>\n",
       "    <tr>\n",
       "      <th>3</th>\n",
       "      <td>11017</td>\n",
       "      <td>Negative</td>\n",
       "      <td>a true inspiration #raringtogo</td>\n",
       "      <td>true inspiration raringtogo</td>\n",
       "    </tr>\n",
       "    <tr>\n",
       "      <th>4</th>\n",
       "      <td>28759</td>\n",
       "      <td>Negative</td>\n",
       "      <td>â #us may ppi: inflationary pressures slowl...</td>\n",
       "      <td>us may ppi inflationary pressures slowly build...</td>\n",
       "    </tr>\n",
       "  </tbody>\n",
       "</table>\n",
       "</div>"
      ],
      "text/plain": [
       "      id sentiment                                              tweet  \\\n",
       "0  19818  Negative  yes!! #crashbandicoot remake for #ps4 ðµðµ...   \n",
       "1  14921  Positive  nothing would be more dangerous than to give #...   \n",
       "2     52  Negative  for her #bihday we got her a #nose #job @user ...   \n",
       "3  11017  Negative                  a true inspiration #raringtogo      \n",
       "4  28759  Negative   â #us may ppi: inflationary pressures slowl...   \n",
       "\n",
       "                                         clean_tweet  \n",
       "0  yes crashbandicoot remake ps made day woo want...  \n",
       "1  nothing would dangerous give putinschoice impr...  \n",
       "2       bihday got nose job user bihday petunia love  \n",
       "3                        true inspiration raringtogo  \n",
       "4  us may ppi inflationary pressures slowly build...  "
      ]
     },
     "execution_count": 50,
     "metadata": {},
     "output_type": "execute_result"
    }
   ],
   "source": [
    "test[\"clean_tweet\"] = test[\"tweet\"].apply(preprocess_text)\n",
    "\n",
    "test.head()"
   ]
  },
  {
   "cell_type": "code",
   "execution_count": 51,
   "id": "21bc514c-6561-4a78-8732-a64c76ad593b",
   "metadata": {
    "tags": []
   },
   "outputs": [
    {
     "name": "stdout",
     "output_type": "stream",
     "text": [
      "Loaded 9026 word vectors.\n"
     ]
    }
   ],
   "source": [
    "glove_path = \"glove.6B.200d.txt\"  # Path to GloVe file\n",
    "embedding_dim = 200\n",
    "\n",
    "# Collect all unique words from train and test sets\n",
    "all_words = set()\n",
    "for tweet in train[\"clean_tweet\"].tolist() + test[\"clean_tweet\"].tolist():\n",
    "    all_words.update(tweet.split())\n",
    "\n",
    "# Load only required GloVe word vectors\n",
    "glove_embeddings = {}\n",
    "\n",
    "with open(glove_path, \"r\", encoding=\"utf-8\") as file:\n",
    "    for line in file:\n",
    "        values = line.split()\n",
    "        word = values[0]\n",
    "        if word in all_words:  # Only store relevant words\n",
    "            vector = np.asarray(values[1:], dtype=\"float32\")\n",
    "            glove_embeddings[word] = vector\n",
    "\n",
    "print(f\"Loaded {len(glove_embeddings)} word vectors.\")\n"
   ]
  },
  {
   "cell_type": "code",
   "execution_count": 52,
   "id": "a9e9f1de-1e44-4f73-8ae5-f1462d04b07e",
   "metadata": {
    "tags": []
   },
   "outputs": [],
   "source": [
    "def get_tweet_embedding(tweet, max_len=50):\n",
    "    words = tweet.split()\n",
    "    valid_embeddings = [glove_embeddings.get(word, np.zeros(embedding_dim)) for word in words]\n",
    "\n",
    "    # Pad or truncate to max_len\n",
    "    if len(valid_embeddings) < max_len:\n",
    "        valid_embeddings += [np.zeros(embedding_dim)] * (max_len - len(valid_embeddings))  # Pad\n",
    "    else:\n",
    "        valid_embeddings = valid_embeddings[:max_len]  # Truncate\n",
    "    \n",
    "    return np.array(valid_embeddings)"
   ]
  },
  {
   "cell_type": "code",
   "execution_count": 53,
   "id": "149a14f9-7401-432f-907a-47d9baa3a260",
   "metadata": {
    "tags": []
   },
   "outputs": [
    {
     "data": {
      "application/vnd.jupyter.widget-view+json": {
       "model_id": "5aef17db787a406ca6656058a7b1464d",
       "version_major": 2,
       "version_minor": 0
      },
      "text/plain": [
       "Pandas Apply:   0%|          | 0/5600 [00:00<?, ?it/s]"
      ]
     },
     "metadata": {},
     "output_type": "display_data"
    }
   ],
   "source": [
    "import swifter\n",
    "\n",
    "X_train = np.array(train[\"clean_tweet\"].swifter.apply(get_tweet_embedding).tolist())"
   ]
  },
  {
   "cell_type": "code",
   "execution_count": 54,
   "id": "e29f0f83-6dc3-4047-a63e-3204980c86e1",
   "metadata": {
    "tags": []
   },
   "outputs": [],
   "source": [
    "y_train = train[\"sentiment\"].map({\"Positive\": 1, \"Negative\": 0})  # Adjust based on dataset labels"
   ]
  },
  {
   "cell_type": "code",
   "execution_count": 55,
   "id": "44ba14f7-b1c6-4c46-9917-92355e11112a",
   "metadata": {
    "tags": []
   },
   "outputs": [
    {
     "data": {
      "application/vnd.jupyter.widget-view+json": {
       "model_id": "59a118181e294a92903ed387743d81d3",
       "version_major": 2,
       "version_minor": 0
      },
      "text/plain": [
       "Pandas Apply:   0%|          | 0/1400 [00:00<?, ?it/s]"
      ]
     },
     "metadata": {},
     "output_type": "display_data"
    }
   ],
   "source": [
    "X_test_data = np.array(test[\"clean_tweet\"].swifter.apply(get_tweet_embedding).tolist())\n",
    "\n",
    "y_test_data = test[\"sentiment\"].map({\"Positive\":1, \"Negative\": 0})"
   ]
  },
  {
   "cell_type": "code",
   "execution_count": 56,
   "id": "7708849d-b089-4df2-a711-b87b23836f09",
   "metadata": {
    "tags": []
   },
   "outputs": [],
   "source": [
    "X_test_data = np.array(X_test_data, dtype=np.float32)\n",
    "y_test_data = np.array(y_test_data)"
   ]
  },
  {
   "cell_type": "code",
   "execution_count": 57,
   "id": "744752b2-9eff-42bb-a607-9ff841a91e50",
   "metadata": {
    "tags": []
   },
   "outputs": [],
   "source": [
    "from sklearn.model_selection import train_test_split\n",
    "from sklearn.metrics import accuracy_score, classification_report"
   ]
  },
  {
   "cell_type": "code",
   "execution_count": 58,
   "id": "1b9fea9c-ceef-4aa3-9e98-2d1732693b03",
   "metadata": {
    "tags": []
   },
   "outputs": [],
   "source": [
    "X_train1, X_val1, y_train1, y_val1 = train_test_split(X_train, y_train, test_size=0.2, random_state=41)"
   ]
  },
  {
   "cell_type": "code",
   "execution_count": 59,
   "id": "2e24e1d0-5150-4396-89d4-bc8b46758041",
   "metadata": {
    "tags": []
   },
   "outputs": [],
   "source": [
    "import numpy as np\n",
    "import tensorflow as tf\n",
    "from tensorflow.keras.models import Sequential\n",
    "from tensorflow.keras.layers import SimpleRNN, Dense, Embedding\n",
    "from tensorflow.keras.optimizers import Adam\n",
    "from tensorflow.keras.preprocessing.sequence import pad_sequences\n"
   ]
  },
  {
   "cell_type": "code",
   "execution_count": 60,
   "id": "8fe87fbb-4939-439d-94d0-ace3ab79cc1e",
   "metadata": {},
   "outputs": [],
   "source": [
    "model1 = Sequential([\n",
    "    SimpleRNN(25, input_shape=(1, 200), return_sequences=False),  # 1 hidden layer\n",
    "    Dense(1, activation='sigmoid')  # Binary output (positive/negative)\n",
    "])\n",
    "\n",
    "# Compile model\n",
    "model1.compile(loss='binary_crossentropy', optimizer=Adam(learning_rate=0.001), metrics=['accuracy'])\n"
   ]
  },
  {
   "cell_type": "code",
   "execution_count": 61,
   "id": "5248018e-ee91-40f4-a5d4-7f4bafddd994",
   "metadata": {
    "tags": []
   },
   "outputs": [],
   "source": [
    "X_train1 = np.array(X_train1, dtype=np.float32)\n",
    "X_val1 = np.array(X_val1, dtype=np.float32)\n",
    "y_train1 = np.array(y_train1)\n",
    "y_val1 = np.array(y_val1)"
   ]
  },
  {
   "cell_type": "code",
   "execution_count": 62,
   "id": "e6f5d61a",
   "metadata": {},
   "outputs": [
    {
     "data": {
      "text/plain": [
       "(4480, 50, 200)"
      ]
     },
     "execution_count": 62,
     "metadata": {},
     "output_type": "execute_result"
    }
   ],
   "source": [
    "X_train1.shape"
   ]
  },
  {
   "cell_type": "code",
   "execution_count": 63,
   "id": "fa7f1729-a841-4a71-84b4-2b5fd7831123",
   "metadata": {
    "tags": []
   },
   "outputs": [
    {
     "name": "stdout",
     "output_type": "stream",
     "text": [
      "Epoch 1/5\n",
      "\u001b[1m448/448\u001b[0m \u001b[32m━━━━━━━━━━━━━━━━━━━━\u001b[0m\u001b[37m\u001b[0m \u001b[1m3s\u001b[0m 4ms/step - accuracy: 0.9105 - loss: 0.3111 - val_accuracy: 0.9375 - val_loss: 0.2345\n",
      "Epoch 2/5\n",
      "\u001b[1m448/448\u001b[0m \u001b[32m━━━━━━━━━━━━━━━━━━━━\u001b[0m\u001b[37m\u001b[0m \u001b[1m2s\u001b[0m 4ms/step - accuracy: 0.9286 - loss: 0.2592 - val_accuracy: 0.9375 - val_loss: 0.2340\n",
      "Epoch 3/5\n",
      "\u001b[1m448/448\u001b[0m \u001b[32m━━━━━━━━━━━━━━━━━━━━\u001b[0m\u001b[37m\u001b[0m \u001b[1m2s\u001b[0m 4ms/step - accuracy: 0.9349 - loss: 0.2417 - val_accuracy: 0.9375 - val_loss: 0.2338\n",
      "Epoch 4/5\n",
      "\u001b[1m448/448\u001b[0m \u001b[32m━━━━━━━━━━━━━━━━━━━━\u001b[0m\u001b[37m\u001b[0m \u001b[1m2s\u001b[0m 4ms/step - accuracy: 0.9280 - loss: 0.2604 - val_accuracy: 0.9375 - val_loss: 0.2359\n",
      "Epoch 5/5\n",
      "\u001b[1m448/448\u001b[0m \u001b[32m━━━━━━━━━━━━━━━━━━━━\u001b[0m\u001b[37m\u001b[0m \u001b[1m2s\u001b[0m 4ms/step - accuracy: 0.9372 - loss: 0.2350 - val_accuracy: 0.9375 - val_loss: 0.2348\n"
     ]
    },
    {
     "data": {
      "text/plain": [
       "<keras.src.callbacks.history.History at 0x220706bec90>"
      ]
     },
     "execution_count": 63,
     "metadata": {},
     "output_type": "execute_result"
    }
   ],
   "source": [
    "model1.fit(X_train1, y_train1, epochs=5, batch_size = 10, validation_data=(X_val1, y_val1))"
   ]
  },
  {
   "cell_type": "code",
   "execution_count": 64,
   "id": "f3785d1e-23e5-48e1-b70c-d8f0fe2638a8",
   "metadata": {
    "tags": []
   },
   "outputs": [],
   "source": [
    "from sklearn.metrics import confusion_matrix, classification_report\n",
    "import seaborn as sns\n",
    "import matplotlib.pyplot as plt"
   ]
  },
  {
   "cell_type": "code",
   "execution_count": 65,
   "id": "d1bdab66",
   "metadata": {},
   "outputs": [],
   "source": [
    "def plot_confusion_matrix_alternative(y_true, y_pred, class_labels, title=\"Confusion Matrix\"):\n",
    "    cm = confusion_matrix(y_true, y_pred)\n",
    "\n",
    "    fig, ax = plt.subplots(figsize=(4, 4))\n",
    "    cax = ax.imshow(cm, interpolation='nearest', cmap=plt.cm.Blues)\n",
    "    plt.colorbar(cax)\n",
    "\n",
    "    # Set axis labels\n",
    "    ax.set_xticks(np.arange(len(class_labels)))\n",
    "    ax.set_yticks(np.arange(len(class_labels)))\n",
    "    ax.set_xticklabels(class_labels, fontsize=10)\n",
    "    ax.set_yticklabels(class_labels, fontsize=10)\n",
    "\n",
    "    plt.xlabel(\"Predicted Label\", fontsize=12)\n",
    "    plt.ylabel(\"True Label\", fontsize=12)\n",
    "    plt.title(title, fontsize=14)\n",
    "\n",
    "    # Annotate each cell with its corresponding value\n",
    "    for i in range(cm.shape[0]):\n",
    "        for j in range(cm.shape[1]):\n",
    "            plt.text(j, i, str(cm[i, j]), ha='center', va='center', color=\"black\", fontsize=12)\n",
    "\n",
    "    plt.show()"
   ]
  },
  {
   "cell_type": "code",
   "execution_count": 77,
   "id": "cfb2eb5d-64b3-4994-98e5-2227c517609a",
   "metadata": {
    "tags": []
   },
   "outputs": [
    {
     "name": "stdout",
     "output_type": "stream",
     "text": [
      "\u001b[1m35/35\u001b[0m \u001b[32m━━━━━━━━━━━━━━━━━━━━\u001b[0m\u001b[37m\u001b[0m \u001b[1m0s\u001b[0m 2ms/step\n",
      "Classification Report:\n",
      "               precision    recall  f1-score   support\n",
      "\n",
      "           0       0.94      1.00      0.97      1050\n",
      "           1       0.00      0.00      0.00        70\n",
      "\n",
      "    accuracy                           0.94      1120\n",
      "   macro avg       0.47      0.50      0.48      1120\n",
      "weighted avg       0.88      0.94      0.91      1120\n",
      "\n"
     ]
    },
    {
     "data": {
      "image/png": "[encoded data removed]",
      "text/plain": [
       "<Figure size 400x400 with 2 Axes>"
      ]
     },
     "metadata": {},
     "output_type": "display_data"
    }
   ],
   "source": [
    "y_pred_probs = model1.predict(X_val1)\n",
    "y_pred = (y_pred_probs > 0.5).astype(int)  # Convert to 0 or 1\n",
    "\n",
    "# Compute confusion matrix\n",
    "cm = confusion_matrix(y_val1, y_pred)\n",
    "\n",
    "# Print classification report\n",
    "print(\"Classification Report:\\n\", classification_report(y_val1, y_pred))\n",
    "plot_confusion_matrix_alternative(y_val1, y_pred, [\"negative\", \"positive\"], title = 'validation confusion matrix')"
   ]
  },
  {
   "cell_type": "code",
   "execution_count": 78,
   "id": "38d7a250",
   "metadata": {},
   "outputs": [
    {
     "name": "stdout",
     "output_type": "stream",
     "text": [
      "\u001b[1m44/44\u001b[0m \u001b[32m━━━━━━━━━━━━━━━━━━━━\u001b[0m\u001b[37m\u001b[0m \u001b[1m0s\u001b[0m 2ms/step\n",
      "Classification Report:\n",
      "               precision    recall  f1-score   support\n",
      "\n",
      "           0       0.93      1.00      0.96      1302\n",
      "           1       0.00      0.00      0.00        98\n",
      "\n",
      "    accuracy                           0.93      1400\n",
      "   macro avg       0.47      0.50      0.48      1400\n",
      "weighted avg       0.86      0.93      0.90      1400\n",
      "\n"
     ]
    },
    {
     "data": {
      "image/png": "[encoded data removed]",
      "text/plain": [
       "<Figure size 400x400 with 2 Axes>"
      ]
     },
     "metadata": {},
     "output_type": "display_data"
    }
   ],
   "source": [
    "y_pred_probs = model1.predict(X_test_data)\n",
    "y_pred = (y_pred_probs > 0.5).astype(int)  # Convert to 0 or 1\n",
    "\n",
    "# Compute confusion matrix\n",
    "cm = confusion_matrix(y_test_data, y_pred)\n",
    "\n",
    "# Print classification report\n",
    "print(\"Classification Report:\\n\", classification_report(y_test_data, y_pred))\n",
    "plot_confusion_matrix_alternative(y_test_data, y_pred, [\"negative\", \"positive\"], title = \"Test confusion matrix\")"
   ]
  },
  {
   "cell_type": "code",
   "execution_count": 79,
   "id": "6f8ae2cd-0b3c-4b19-9e5c-fd5060e29bb3",
   "metadata": {
    "tags": []
   },
   "outputs": [],
   "source": [
    "model2 = Sequential([\n",
    "    SimpleRNN(25, input_shape=(1, 200), return_sequences=False),  # 1 hidden layer\n",
    "    Dense(1, activation='sigmoid')  # Binary output (positive/negative)\n",
    "])\n",
    "\n",
    "# Compile model\n",
    "model2.compile(loss='binary_crossentropy', optimizer=Adam(learning_rate=0.001), metrics=['accuracy'])\n"
   ]
  },
  {
   "cell_type": "code",
   "execution_count": 80,
   "id": "9268d46e-f552-4e60-9629-97a6503fadb6",
   "metadata": {
    "tags": []
   },
   "outputs": [
    {
     "name": "stdout",
     "output_type": "stream",
     "text": [
      "Epoch 1/5\n",
      "\u001b[1m834/834\u001b[0m \u001b[32m━━━━━━━━━━━━━━━━━━━━\u001b[0m\u001b[37m\u001b[0m \u001b[1m5s\u001b[0m 4ms/step - accuracy: 0.7137 - loss: 0.5391 - val_accuracy: 0.8902 - val_loss: 0.3194\n",
      "Epoch 2/5\n",
      "\u001b[1m834/834\u001b[0m \u001b[32m━━━━━━━━━━━━━━━━━━━━\u001b[0m\u001b[37m\u001b[0m \u001b[1m3s\u001b[0m 4ms/step - accuracy: 0.8840 - loss: 0.3175 - val_accuracy: 0.8982 - val_loss: 0.3002\n",
      "Epoch 3/5\n",
      "\u001b[1m834/834\u001b[0m \u001b[32m━━━━━━━━━━━━━━━━━━━━\u001b[0m\u001b[37m\u001b[0m \u001b[1m3s\u001b[0m 4ms/step - accuracy: 0.9225 - loss: 0.2268 - val_accuracy: 0.8848 - val_loss: 0.3205\n",
      "Epoch 4/5\n",
      "\u001b[1m834/834\u001b[0m \u001b[32m━━━━━━━━━━━━━━━━━━━━\u001b[0m\u001b[37m\u001b[0m \u001b[1m3s\u001b[0m 4ms/step - accuracy: 0.9286 - loss: 0.2109 - val_accuracy: 0.8848 - val_loss: 0.3380\n",
      "Epoch 5/5\n",
      "\u001b[1m834/834\u001b[0m \u001b[32m━━━━━━━━━━━━━━━━━━━━\u001b[0m\u001b[37m\u001b[0m \u001b[1m3s\u001b[0m 4ms/step - accuracy: 0.9509 - loss: 0.1451 - val_accuracy: 0.9268 - val_loss: 0.2456\n"
     ]
    },
    {
     "data": {
      "text/plain": [
       "<keras.src.callbacks.history.History at 0x220751edb90>"
      ]
     },
     "execution_count": 80,
     "metadata": {},
     "output_type": "execute_result"
    }
   ],
   "source": [
    "from imblearn.over_sampling import RandomOverSampler\n",
    "\n",
    "# Reshape X_train1 from (samples, 50, 200) → (samples, 50*200)\n",
    "X_train1_reshaped = X_train1.reshape(X_train1.shape[0], -1)\n",
    "\n",
    "# Apply oversampling\n",
    "ros = RandomOverSampler(sampling_strategy=\"auto\", random_state=42)\n",
    "X_train_balanced, y_train_balanced = ros.fit_resample(X_train1_reshaped, y_train1)\n",
    "\n",
    "# Reshape back to (samples, 50, 200) for RNN input\n",
    "X_train_balanced = X_train_balanced.reshape(-1, 50, 200)\n",
    "\n",
    "# Train model on balanced dataset\n",
    "model2.fit(X_train_balanced, y_train_balanced, epochs=5, batch_size=10, validation_data=(X_val1, y_val1))"
   ]
  },
  {
   "cell_type": "code",
   "execution_count": 83,
   "id": "ae23a930-8c2a-42f2-b84e-a7ddaca9686c",
   "metadata": {
    "tags": []
   },
   "outputs": [
    {
     "name": "stdout",
     "output_type": "stream",
     "text": [
      "\u001b[1m35/35\u001b[0m \u001b[32m━━━━━━━━━━━━━━━━━━━━\u001b[0m\u001b[37m\u001b[0m \u001b[1m0s\u001b[0m 3ms/step\n",
      "Classification Report:\n",
      "               precision    recall  f1-score   support\n",
      "\n",
      "           0       0.97      0.95      0.96      1050\n",
      "           1       0.44      0.61      0.51        70\n",
      "\n",
      "    accuracy                           0.93      1120\n",
      "   macro avg       0.71      0.78      0.74      1120\n",
      "weighted avg       0.94      0.93      0.93      1120\n",
      "\n"
     ]
    },
    {
     "data": {
      "image/png": "[encoded data removed]",
      "text/plain": [
       "<Figure size 400x400 with 2 Axes>"
      ]
     },
     "metadata": {},
     "output_type": "display_data"
    }
   ],
   "source": [
    "y_pred_probs = model2.predict(X_val1)\n",
    "y_pred = (y_pred_probs > 0.5).astype(int)  # Convert to 0 or 1\n",
    "\n",
    "# Compute confusion matrix\n",
    "cm = confusion_matrix(y_val1, y_pred)\n",
    "\n",
    "# Print classification report\n",
    "print(\"Classification Report:\\n\", classification_report(y_val1, y_pred))\n",
    "plot_confusion_matrix_alternative(y_val1, y_pred, [\"negative\", \"positive\"], title = \"Validation confusion matrix\")"
   ]
  },
  {
   "cell_type": "code",
   "execution_count": 84,
   "id": "dfc3df02-0de2-4df6-a25f-732e462cbb10",
   "metadata": {
    "tags": []
   },
   "outputs": [
    {
     "name": "stdout",
     "output_type": "stream",
     "text": [
      "\u001b[1m44/44\u001b[0m \u001b[32m━━━━━━━━━━━━━━━━━━━━\u001b[0m\u001b[37m\u001b[0m \u001b[1m0s\u001b[0m 2ms/step\n",
      "Classification Report:\n",
      "               precision    recall  f1-score   support\n",
      "\n",
      "           0       0.97      0.94      0.96      1302\n",
      "           1       0.44      0.61      0.51        98\n",
      "\n",
      "    accuracy                           0.92      1400\n",
      "   macro avg       0.71      0.78      0.73      1400\n",
      "weighted avg       0.93      0.92      0.92      1400\n",
      "\n"
     ]
    },
    {
     "data": {
      "image/png": "[encoded data removed]",
      "text/plain": [
       "<Figure size 400x400 with 2 Axes>"
      ]
     },
     "metadata": {},
     "output_type": "display_data"
    }
   ],
   "source": [
    "y_pred_probs = model2.predict(X_test_data)\n",
    "y_pred = (y_pred_probs > 0.5).astype(int)  # Convert to 0 or 1\n",
    "\n",
    "# Compute confusion matrix\n",
    "cm = confusion_matrix(y_test_data, y_pred)\n",
    "\n",
    "# Print classification report\n",
    "print(\"Classification Report:\\n\", classification_report(y_test_data, y_pred))\n",
    "plot_confusion_matrix_alternative(y_test_data, y_pred, [\"negative\", \"positive\"], title = 'Test confusionn matrix')\n"
   ]
  },
  {
   "cell_type": "code",
   "execution_count": 72,
   "id": "b3a346c3-3167-4a7e-8387-bc38448981b7",
   "metadata": {
    "tags": []
   },
   "outputs": [],
   "source": [
    "model3 = Sequential([\n",
    "    SimpleRNN(25, input_shape=(1, 200), return_sequences=False),  # 1 hidden layer\n",
    "    Dense(1, activation='sigmoid')  # Binary output (positive/negative)\n",
    "])\n",
    "\n",
    "# Compile model\n",
    "model3.compile(loss='binary_crossentropy', optimizer=Adam(learning_rate=0.001), metrics=['accuracy'])\n"
   ]
  },
  {
   "cell_type": "code",
   "execution_count": 73,
   "id": "16f9e839-a7ae-43f0-861b-ebe0df42ff2d",
   "metadata": {
    "tags": []
   },
   "outputs": [
    {
     "name": "stdout",
     "output_type": "stream",
     "text": [
      "Epoch 1/5\n",
      "\u001b[1m625/625\u001b[0m \u001b[32m━━━━━━━━━━━━━━━━━━━━\u001b[0m\u001b[37m\u001b[0m \u001b[1m4s\u001b[0m 4ms/step - accuracy: 0.7354 - loss: 0.5452 - val_accuracy: 0.9196 - val_loss: 0.2771\n",
      "Epoch 2/5\n",
      "\u001b[1m625/625\u001b[0m \u001b[32m━━━━━━━━━━━━━━━━━━━━\u001b[0m\u001b[37m\u001b[0m \u001b[1m2s\u001b[0m 4ms/step - accuracy: 0.8335 - loss: 0.3931 - val_accuracy: 0.9277 - val_loss: 0.2277\n",
      "Epoch 3/5\n",
      "\u001b[1m625/625\u001b[0m \u001b[32m━━━━━━━━━━━━━━━━━━━━\u001b[0m\u001b[37m\u001b[0m \u001b[1m3s\u001b[0m 4ms/step - accuracy: 0.8610 - loss: 0.3368 - val_accuracy: 0.9018 - val_loss: 0.2568\n",
      "Epoch 4/5\n",
      "\u001b[1m625/625\u001b[0m \u001b[32m━━━━━━━━━━━━━━━━━━━━\u001b[0m\u001b[37m\u001b[0m \u001b[1m3s\u001b[0m 4ms/step - accuracy: 0.8729 - loss: 0.3102 - val_accuracy: 0.8902 - val_loss: 0.2627\n",
      "Epoch 5/5\n",
      "\u001b[1m625/625\u001b[0m \u001b[32m━━━━━━━━━━━━━━━━━━━━\u001b[0m\u001b[37m\u001b[0m \u001b[1m3s\u001b[0m 4ms/step - accuracy: 0.8726 - loss: 0.3177 - val_accuracy: 0.9009 - val_loss: 0.2638\n"
     ]
    },
    {
     "data": {
      "text/plain": [
       "<keras.src.callbacks.history.History at 0x2207569d0d0>"
      ]
     },
     "execution_count": 73,
     "metadata": {},
     "output_type": "execute_result"
    }
   ],
   "source": [
    "from imblearn.over_sampling import RandomOverSampler\n",
    "\n",
    "# Reshape X_train1 from (samples, 50, 200) → (samples, 50*200)\n",
    "X_train1_reshaped = X_train1.reshape(X_train1.shape[0], -1)  # (5600, 10000)\n",
    "\n",
    "# Apply oversampling\n",
    "ros = RandomOverSampler(sampling_strategy=0.5, random_state=42)\n",
    "X_train_balanced, y_train_balanced = ros.fit_resample(X_train1_reshaped, y_train1)\n",
    "\n",
    "# Reshape back to (samples, 50, 200) for RNN input\n",
    "X_train_balanced = X_train_balanced.reshape(-1, 50, 200)\n",
    "\n",
    "# Train model on balanced dataset\n",
    "model3.fit(X_train_balanced, y_train_balanced, epochs=5, batch_size=10, validation_data=(X_val1, y_val1))"
   ]
  },
  {
   "cell_type": "code",
   "execution_count": 86,
   "id": "880510ea-4855-49b5-8fcd-bf750e114cc2",
   "metadata": {
    "tags": []
   },
   "outputs": [
    {
     "name": "stdout",
     "output_type": "stream",
     "text": [
      "\u001b[1m35/35\u001b[0m \u001b[32m━━━━━━━━━━━━━━━━━━━━\u001b[0m\u001b[37m\u001b[0m \u001b[1m0s\u001b[0m 2ms/step\n",
      "Classification Report:\n",
      "               precision    recall  f1-score   support\n",
      "\n",
      "           0       0.96      0.94      0.95      1050\n",
      "           1       0.27      0.36      0.31        70\n",
      "\n",
      "    accuracy                           0.90      1120\n",
      "   macro avg       0.62      0.65      0.63      1120\n",
      "weighted avg       0.91      0.90      0.91      1120\n",
      "\n"
     ]
    },
    {
     "data": {
      "image/png": "[encoded data removed]",
      "text/plain": [
       "<Figure size 400x400 with 2 Axes>"
      ]
     },
     "metadata": {},
     "output_type": "display_data"
    }
   ],
   "source": [
    "y_pred_probs = model3.predict(X_val1)\n",
    "y_pred = (y_pred_probs > 0.5).astype(int)  # Convert to 0 or 1\n",
    "\n",
    "# Compute confusion matrix\n",
    "cm = confusion_matrix(y_val1, y_pred)\n",
    "\n",
    "# Print classification report\n",
    "print(\"Classification Report:\\n\", classification_report(y_val1, y_pred))\n",
    "plot_confusion_matrix_alternative(y_val1, y_pred, [\"negative\", \"positive\"], title = \"validation confusion matrix\")"
   ]
  },
  {
   "cell_type": "code",
   "execution_count": 85,
   "id": "fd5d3cc3-701c-4425-b05a-81a457d93be4",
   "metadata": {},
   "outputs": [
    {
     "name": "stdout",
     "output_type": "stream",
     "text": [
      "\u001b[1m44/44\u001b[0m \u001b[32m━━━━━━━━━━━━━━━━━━━━\u001b[0m\u001b[37m\u001b[0m \u001b[1m0s\u001b[0m 2ms/step\n",
      "Classification Report:\n",
      "               precision    recall  f1-score   support\n",
      "\n",
      "           0       0.96      0.94      0.95      1302\n",
      "           1       0.35      0.42      0.38        98\n",
      "\n",
      "    accuracy                           0.91      1400\n",
      "   macro avg       0.65      0.68      0.67      1400\n",
      "weighted avg       0.91      0.91      0.91      1400\n",
      "\n"
     ]
    },
    {
     "data": {
      "image/png": "[encoded data removed]",
      "text/plain": [
       "<Figure size 400x400 with 2 Axes>"
      ]
     },
     "metadata": {},
     "output_type": "display_data"
    }
   ],
   "source": [
    "y_pred_probs = model3.predict(X_test_data)\n",
    "y_pred = (y_pred_probs > 0.5).astype(int)  # Convert to 0 or 1\n",
    "\n",
    "# Compute confusion matrix\n",
    "cm = confusion_matrix(y_test_data, y_pred)\n",
    "\n",
    "# Print classification report\n",
    "print(\"Classification Report:\\n\", classification_report(y_test_data, y_pred))\n",
    "\n",
    "# Plot confusion matrix\n",
    "plot_confusion_matrix_alternative(y_test_data, y_pred, [\"negative\", \"positive\"], title = \"test confusion matrix\")\n"
   ]
  },
  {
   "cell_type": "code",
   "execution_count": null,
   "id": "a9d0d3b9",
   "metadata": {},
   "outputs": [],
   "source": []
  },
  {
   "cell_type": "code",
   "execution_count": null,
   "id": "e965307d",
   "metadata": {},
   "outputs": [],
   "source": []
  }
 ],
 "metadata": {
  "kernelspec": {
   "display_name": "Python 3 (ipykernel)",
   "language": "python",
   "name": "python3"
  },
  "language_info": {
   "codemirror_mode": {
    "name": "ipython",
    "version": 3
   },
   "file_extension": ".py",
   "mimetype": "text/x-python",
   "name": "python",
   "nbconvert_exporter": "python",
   "pygments_lexer": "ipython3",
   "version": "3.11.7"
  }
 },
 "nbformat": 4,
 "nbformat_minor": 5
}
